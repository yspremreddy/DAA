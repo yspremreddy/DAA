{
 "cells": [
  {
   "cell_type": "markdown",
   "metadata": {},
   "source": [
    "Question 1"
   ]
  },
  {
   "cell_type": "code",
   "execution_count": 1,
   "metadata": {},
   "outputs": [
    {
     "data": {
      "image/png": "[encoded data removed]",
      "text/plain": [
       "<Figure size 640x480 with 1 Axes>"
      ]
     },
     "metadata": {},
     "output_type": "display_data"
    }
   ],
   "source": [
    "import random\n",
    "import time\n",
    "import matplotlib.pyplot as plt\n",
    "\n",
    "# Function to generate a list of random integers\n",
    "def generate_random_numbers(size):\n",
    "    return [random.randint(1, 10000) for _ in range(size)]\n",
    "\n",
    "# Bubble sort algorithm\n",
    "def bubble_sort(arr):\n",
    "    n = len(arr)\n",
    "    for i in range(n):\n",
    "        for j in range(0, n-i-1):\n",
    "            if arr[j] > arr[j+1]:\n",
    "                arr[j], arr[j+1] = arr[j+1], arr[j]\n",
    "\n",
    "# Insertion sort algorithm\n",
    "def insertion_sort(arr):\n",
    "    for i in range(1, len(arr)):\n",
    "        key = arr[i]\n",
    "        j = i - 1\n",
    "        while j >= 0 and key < arr[j]:\n",
    "            arr[j + 1] = arr[j]\n",
    "            j -= 1\n",
    "        arr[j + 1] = key\n",
    "\n",
    "# Merge sort algorithm\n",
    "def merge_sort(arr):\n",
    "    if len(arr) > 1:\n",
    "        mid = len(arr) // 2\n",
    "        L = arr[:mid]\n",
    "        R = arr[mid:]\n",
    "\n",
    "        merge_sort(L)\n",
    "        merge_sort(R)\n",
    "\n",
    "        i = j = k = 0\n",
    "\n",
    "        while i < len(L) and j < len(R):\n",
    "            if L[i] < R[j]:\n",
    "                arr[k] = L[i]\n",
    "                i += 1\n",
    "            else:\n",
    "                arr[k] = R[j]\n",
    "                j += 1\n",
    "            k += 1\n",
    "\n",
    "        while i < len(L):\n",
    "            arr[k] = L[i]\n",
    "            i += 1\n",
    "            k += 1\n",
    "\n",
    "        while j < len(R):\n",
    "            arr[k] = R[j]\n",
    "            j += 1\n",
    "            k += 1\n",
    "\n",
    "# Function to measure time taken by a sorting algorithm\n",
    "def measure_sorting_time(sort_func, arr):\n",
    "    start_time = time.time()\n",
    "    sort_func(arr)\n",
    "    end_time = time.time()\n",
    "    return end_time - start_time\n",
    "\n",
    "# Generate random numbers\n",
    "numbers = generate_random_numbers(1000)\n",
    "\n",
    "# Measure time for each sorting algorithm\n",
    "bubble_time = measure_sorting_time(bubble_sort, numbers.copy())\n",
    "insertion_time = measure_sorting_time(insertion_sort, numbers.copy())\n",
    "merge_time = measure_sorting_time(merge_sort, numbers.copy())\n",
    "\n",
    "# Plotting the results\n",
    "labels = ['Bubble Sort', 'Insertion Sort', 'Merge Sort']\n",
    "times = [bubble_time, insertion_time, merge_time]\n",
    "\n",
    "plt.bar(labels, times)\n",
    "plt.xlabel('Sorting Algorithm')\n",
    "plt.ylabel('Time (s)')\n",
    "plt.title('Time Taken by Sorting Algorithms (1000 random numbers)')\n",
    "plt.show()\n"
   ]
  },
  {
   "cell_type": "markdown",
   "metadata": {},
   "source": [
    "Question 2"
   ]
  },
  {
   "cell_type": "code",
   "execution_count": null,
   "metadata": {},
   "outputs": [],
   "source": [
    "import heapq\n",
    "\n",
    "# Function to print 'm' sorted lists in sorted order\n",
    "def print_sorted_lists(sorted_lists):\n",
    "    # Initialize an empty min heap\n",
    "    min_heap = []\n",
    "\n",
    "    # Push the first element of each list along with the list index into the min heap\n",
    "    for i, lst in enumerate(sorted_lists):\n",
    "        if lst:\n",
    "            heapq.heappush(min_heap, (lst[0], i, 0))\n",
    "\n",
    "    # While the min heap is not empty\n",
    "    while min_heap:\n",
    "        # Pop the smallest element from the heap\n",
    "        val, lst_idx, idx = heapq.heappop(min_heap)\n",
    "\n",
    "        # Print the popped value\n",
    "        print(val, end=\" \")\n",
    "\n",
    "        # Move to the next element in the list from which the popped value came\n",
    "        idx += 1\n",
    "\n",
    "        # If there are more elements in the list, push the next element into the heap\n",
    "        if idx < len(sorted_lists[lst_idx]):\n",
    "            heapq.heappush(min_heap, (sorted_lists[lst_idx][idx], lst_idx, idx))\n",
    "\n",
    "# Example usage:\n",
    "sorted_lists = [\n",
    "    [1, 3, 5, 7],\n",
    "    [2, 4, 6, 8],\n",
    "    [0, 9, 10, 11]\n",
    "]\n",
    "\n",
    "print(\"Sorted lists in sorted order:\")\n",
    "print_sorted_lists(sorted_lists)\n"
   ]
  },
  {
   "cell_type": "markdown",
   "metadata": {},
   "source": [
    "Question 3"
   ]
  },
  {
   "cell_type": "code",
   "execution_count": 2,
   "metadata": {},
   "outputs": [
    {
     "name": "stdout",
     "output_type": "stream",
     "text": [
      "The 3 largest elements in the array are: [6, 5, 4]\n"
     ]
    }
   ],
   "source": [
    "def find_k_largest_elements(nums, k):\n",
    "    if not nums or k <= 0:\n",
    "        return []\n",
    "    \n",
    "    # Sort the array in descending order\n",
    "    nums.sort(reverse=True)\n",
    "    \n",
    "    # Return the first K elements\n",
    "    return nums[:k]\n",
    "\n",
    "# Example usage:\n",
    "nums = [3, 2, 1, 5, 6, 4]\n",
    "k = 3\n",
    "result = find_k_largest_elements(nums, k)\n",
    "print(f\"The {k} largest elements in the array are:\", result)\n"
   ]
  },
  {
   "cell_type": "markdown",
   "metadata": {},
   "source": [
    "Question 4"
   ]
  },
  {
   "cell_type": "code",
   "execution_count": 4,
   "metadata": {},
   "outputs": [
    {
     "name": "stdout",
     "output_type": "stream",
     "text": [
      "Maximum number of activities: 4\n",
      "Activities performed: [(1, 4), (5, 7), (8, 11), (12, 14)]\n"
     ]
    }
   ],
   "source": [
    "def max_activities(activities):\n",
    "    # Sort activities based on their finish times\n",
    "    sorted_activities = sorted(activities, key=lambda x: x[1])\n",
    "    \n",
    "    # Initialize variables\n",
    "    prev_finish_time = float('-inf')\n",
    "    max_activities_count = 0\n",
    "    selected_activities = []\n",
    "    \n",
    "    # Iterate through sorted activities\n",
    "    for activity in sorted_activities:\n",
    "        start_time, finish_time = activity\n",
    "        # If the current activity can be performed without overlapping with previous activity\n",
    "        if start_time >= prev_finish_time:\n",
    "            max_activities_count += 1\n",
    "            prev_finish_time = finish_time\n",
    "            selected_activities.append(activity)\n",
    "    \n",
    "    return max_activities_count, selected_activities\n",
    "\n",
    "# Example usage:\n",
    "activities = [(1, 4), (3, 5), (0, 6), (5, 7), (3,8), (5, 9),(6,10),(8,11),(8,12),(2,13),(12,14)]\n",
    "max_count, selected_activities = max_activities(activities)\n",
    "print(\"Maximum number of activities:\", max_count)\n",
    "print(\"Activities performed:\", selected_activities)\n"
   ]
  },
  {
   "cell_type": "markdown",
   "metadata": {},
   "source": [
    "Question 5"
   ]
  },
  {
   "cell_type": "code",
   "execution_count": 5,
   "metadata": {},
   "outputs": [
    {
     "name": "stdout",
     "output_type": "stream",
     "text": [
      "Non-overlapping intervals after merging:\n",
      "[(1, 5), (6, 9)]\n"
     ]
    }
   ],
   "source": [
    "def merge_intervals(intervals):\n",
    "    if not intervals:\n",
    "        return []\n",
    "    \n",
    "    # Sort intervals based on start times\n",
    "    sorted_intervals = sorted(intervals, key=lambda x: x[0])\n",
    "    \n",
    "    merged_intervals = [sorted_intervals[0]]\n",
    "    \n",
    "    for interval in sorted_intervals[1:]:\n",
    "        prev_start, prev_end = merged_intervals[-1]\n",
    "        start, end = interval\n",
    "        \n",
    "        # If the current interval overlaps with the previous merged interval, merge them\n",
    "        if start <= prev_end:\n",
    "            merged_intervals[-1] = (prev_start, max(prev_end, end))\n",
    "        else:\n",
    "            merged_intervals.append(interval)\n",
    "    \n",
    "    return merged_intervals\n",
    "\n",
    "# Example usage:\n",
    "intervals = [(1, 4), (2, 5), (7, 8), (6, 9)]\n",
    "merged_intervals = merge_intervals(intervals)\n",
    "print(\"Non-overlapping intervals after merging:\")\n",
    "print(merged_intervals)\n"
   ]
  }
 ],
 "metadata": {
  "kernelspec": {
   "display_name": "Python 3",
   "language": "python",
   "name": "python3"
  },
  "language_info": {
   "codemirror_mode": {
    "name": "ipython",
    "version": 3
   },
   "file_extension": ".py",
   "mimetype": "text/x-python",
   "name": "python",
   "nbconvert_exporter": "python",
   "pygments_lexer": "ipython3",
   "version": "3.11.8"
  }
 },
 "nbformat": 4,
 "nbformat_minor": 2
}
