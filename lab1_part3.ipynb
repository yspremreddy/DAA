{
 "cells": [
  {
   "cell_type": "markdown",
   "metadata": {},
   "source": [
    "Question 1"
   ]
  },
  {
   "cell_type": "code",
   "execution_count": 5,
   "metadata": {},
   "outputs": [
    {
     "name": "stdout",
     "output_type": "stream",
     "text": [
      "Pairs with sum 10 found:\n",
      "(8, 2)\n",
      "(7, 3)\n"
     ]
    }
   ],
   "source": [
    "def find_pairs_with_sum(nums, target_sum):\n",
    "    seen = {}\n",
    "    pairs = []\n",
    "    for i, num in enumerate(nums):\n",
    "        complement = target_sum - num\n",
    "        if complement in seen:\n",
    "            pairs.append((nums[seen[complement]], num))\n",
    "        seen[num] = i\n",
    "    \n",
    "    return pairs\n",
    "\n",
    "# Example usage:\n",
    "nums = [8, 7, 2, 5, 3, 1]\n",
    "target_sum = 10\n",
    "pairs = find_pairs_with_sum(nums, target_sum)\n",
    "if pairs:\n",
    "    print(\"Pairs with sum\", target_sum, \"found:\")\n",
    "    for pair in pairs:\n",
    "        print(pair)\n",
    "else:\n",
    "    print(\"No pairs with sum\", target_sum, \"found\")\n"
   ]
  },
  {
   "cell_type": "markdown",
   "metadata": {},
   "source": [
    "Question 2\n"
   ]
  },
  {
   "cell_type": "code",
   "execution_count": 7,
   "metadata": {},
   "outputs": [
    {
     "name": "stdout",
     "output_type": "stream",
     "text": [
      "Pair with maximum product: (9, 8)\n"
     ]
    }
   ],
   "source": [
    "def sort_array(nums):\n",
    "    n = len(nums)\n",
    "    for i in range(n):\n",
    "        for j in range(0, n-i-1):\n",
    "            if nums[j] > nums[j+1]:\n",
    "                nums[j], nums[j+1] = nums[j+1], nums[j]\n",
    "\n",
    "def max_product_pair(nums):\n",
    "    if len(nums) < 2:\n",
    "        return None\n",
    "    sort_array(nums)\n",
    "    if nums[0] < 0 and nums[1] < 0 and abs(nums[0] * nums[1]) > nums[-1] * nums[-2]:\n",
    "        return nums[0], nums[1]\n",
    "    else:\n",
    "        return nums[-1], nums[-2]\n",
    "\n",
    "# Example usage:\n",
    "nums = [1, 7, 4, 2, 8, 6, 3, 9, 5]\n",
    "pair = max_product_pair(nums)\n",
    "if pair:\n",
    "    print(\"Pair with maximum product:\", pair)\n",
    "else:\n",
    "    print(\"No pair found\")\n"
   ]
  },
  {
   "cell_type": "markdown",
   "metadata": {},
   "source": [
    "Question 3"
   ]
  },
  {
   "cell_type": "code",
   "execution_count": 9,
   "metadata": {},
   "outputs": [
    {
     "name": "stdout",
     "output_type": "stream",
     "text": [
      "Sorted array: [1, 3, 2, 4, 5, 6]\n"
     ]
    }
   ],
   "source": [
    "def find_swapped_elements(nums):\n",
    "    n = len(nums)\n",
    "    first_swap = None\n",
    "    second_swap = None\n",
    "    for i in range(n - 1):\n",
    "        if nums[i] > nums[i + 1]:\n",
    "            first_swap = i\n",
    "            break\n",
    "    for i in range(n - 1, 0, -1):\n",
    "        if nums[i] < nums[i - 1]:\n",
    "            second_swap = i\n",
    "            break\n",
    "    \n",
    "    return first_swap, second_swap\n",
    "\n",
    "def sort_array(nums):\n",
    "    first_swap, second_swap = find_swapped_elements(nums)\n",
    "    nums[first_swap], nums[second_swap] = nums[second_swap], nums[first_swap]\n",
    "\n",
    "# Example usage:\n",
    "nums = [1, 3, 5, 4, 2, 6]\n",
    "sort_array(nums)\n",
    "print(\"Sorted array:\", nums)\n"
   ]
  },
  {
   "cell_type": "markdown",
   "metadata": {},
   "source": [
    "Question 4"
   ]
  },
  {
   "cell_type": "code",
   "execution_count": 10,
   "metadata": {},
   "outputs": [
    {
     "name": "stdout",
     "output_type": "stream",
     "text": [
      "Segregated array: [0, 0, 0, 0, 0, 1, 1, 1, 1, 1]\n"
     ]
    }
   ],
   "source": [
    "def segregate_zeros_and_ones(arr):\n",
    "    # Initialize two pointers, one at the beginning and one at the end of the array\n",
    "    left = 0\n",
    "    right = len(arr) - 1\n",
    "    \n",
    "    # Continue until the two pointers meet\n",
    "    while left < right:\n",
    "        # Move the left pointer to the right until it encounters a 1\n",
    "        while arr[left] == 0 and left < right:\n",
    "            left += 1\n",
    "        # Move the right pointer to the left until it encounters a 0\n",
    "        while arr[right] == 1 and left < right:\n",
    "            right -= 1\n",
    "        # Swap the elements at the left and right pointers\n",
    "        if left < right:\n",
    "            arr[left], arr[right] = arr[right], arr[left]\n",
    "            left += 1\n",
    "            right -= 1\n",
    "\n",
    "# Example usage:\n",
    "arr = [0, 1, 0, 1, 0, 0, 1, 1, 1, 0]\n",
    "segregate_zeros_and_ones(arr)\n",
    "print(\"Segregated array:\", arr)\n"
   ]
  },
  {
   "cell_type": "markdown",
   "metadata": {},
   "source": [
    "Question 5"
   ]
  },
  {
   "cell_type": "code",
   "execution_count": 13,
   "metadata": {},
   "outputs": [
    {
     "name": "stdout",
     "output_type": "stream",
     "text": [
      "Sorted array: [1, 2, 4, 5, 9, 10, 13]\n",
      "Number of inversions: 8\n"
     ]
    }
   ],
   "source": [
    "def merge_sort(arr):\n",
    "    if len(arr) <= 1:\n",
    "        return arr, 0\n",
    "    \n",
    "    mid = len(arr) // 2\n",
    "    left_half, left_count = merge_sort(arr[:mid])\n",
    "    right_half, right_count = merge_sort(arr[mid:])\n",
    "    \n",
    "    merged_arr, merge_count = merge(left_half, right_half)\n",
    "    \n",
    "    total_count = left_count + right_count + merge_count\n",
    "    \n",
    "    return merged_arr, total_count\n",
    "\n",
    "def merge(left, right):\n",
    "    merged_arr = []\n",
    "    inversion_count = 0\n",
    "    i = j = 0\n",
    "    \n",
    "    while i < len(left) and j < len(right):\n",
    "        if left[i] <= right[j]:\n",
    "            merged_arr.append(left[i])\n",
    "            i += 1\n",
    "        else:\n",
    "            merged_arr.append(right[j])\n",
    "            j += 1\n",
    "            inversion_count += len(left) - i\n",
    "    \n",
    "    merged_arr.extend(left[i:])\n",
    "    merged_arr.extend(right[j:])\n",
    "    \n",
    "    return merged_arr, inversion_count\n",
    "\n",
    "# Example usage:\n",
    "A = [10, 1, 2, 4, 13, 9, 5]\n",
    "sorted_A, inv_count = merge_sort(A)\n",
    "print(\"Sorted array:\", sorted_A)\n",
    "print(\"Number of inversions:\", inv_count)\n"
   ]
  },
  {
   "cell_type": "markdown",
   "metadata": {},
   "source": [
    "Question 6 a"
   ]
  },
  {
   "cell_type": "code",
   "execution_count": 12,
   "metadata": {},
   "outputs": [
    {
     "name": "stdout",
     "output_type": "stream",
     "text": [
      "Yes, a pair (4, 6) sums up to 10.\n"
     ]
    }
   ],
   "source": [
    "def two_sum_brute_force(nums, K):\n",
    "    n = len(nums)\n",
    "    for i in range(n):\n",
    "        for j in range(i + 1, n):\n",
    "            if nums[i] + nums[j] == K:\n",
    "                return True, (nums[i], nums[j])\n",
    "    return False, None\n",
    "\n",
    "# Example usage:\n",
    "nums = [8, 4, 1, 6]\n",
    "K = 10\n",
    "found, pair = two_sum_brute_force(nums, K)\n",
    "if found:\n",
    "    print(f\"Yes, a pair ({pair[0]}, {pair[1]}) sums up to {K}.\")\n",
    "else:\n",
    "    print(\"No such pair found.\")"
   ]
  },
  {
   "cell_type": "markdown",
   "metadata": {},
   "source": [
    "Question 6 b"
   ]
  },
  {
   "cell_type": "code",
   "execution_count": 11,
   "metadata": {},
   "outputs": [
    {
     "name": "stdout",
     "output_type": "stream",
     "text": [
      "Yes, a pair (4, 6) sums up to 10.\n"
     ]
    }
   ],
   "source": [
    "def two_sum_sorted(nums, K):\n",
    "    nums.sort()  # Sort the array in ascending order\n",
    "    left = 0\n",
    "    right = len(nums) - 1\n",
    "    while left < right:\n",
    "        if nums[left] + nums[right] == K:\n",
    "            return True, (nums[left], nums[right])\n",
    "        elif nums[left] + nums[right] < K:\n",
    "            left += 1\n",
    "        else:\n",
    "            right -= 1\n",
    "    return False, None\n",
    "\n",
    "# Example usage:\n",
    "nums = [8, 4, 1, 6]\n",
    "K = 10\n",
    "found, pair = two_sum_sorted(nums, K)\n",
    "if found:\n",
    "    print(f\"Yes, a pair ({pair[0]}, {pair[1]}) sums up to {K}.\")\n",
    "else:\n",
    "    print(\"No such pair found.\")\n"
   ]
  }
 ],
 "metadata": {
  "kernelspec": {
   "display_name": "Python 3",
   "language": "python",
   "name": "python3"
  },
  "language_info": {
   "codemirror_mode": {
    "name": "ipython",
    "version": 3
   },
   "file_extension": ".py",
   "mimetype": "text/x-python",
   "name": "python",
   "nbconvert_exporter": "python",
   "pygments_lexer": "ipython3",
   "version": "3.11.8"
  }
 },
 "nbformat": 4,
 "nbformat_minor": 2
}
