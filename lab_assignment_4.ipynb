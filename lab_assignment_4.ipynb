{
 "cells": [
  {
   "cell_type": "markdown",
   "metadata": {},
   "source": [
    "1."
   ]
  },
  {
   "cell_type": "code",
   "execution_count": 12,
   "metadata": {},
   "outputs": [],
   "source": [
    "def fractional_knapsack(capacity, values, weights):\n",
    "    value_per_weight=[(v/w,w)for v,w in zip(values,weights)]\n",
    "\n",
    "    value_per_weight.sort(reverse=True)\n",
    "\n",
    "    total_value=0.0  \n",
    "    remaining_capacity=capacity\n",
    "\n",
    "    for vpw, weight in value_per_weight:\n",
    "        if remaining_capacity>=weight:\n",
    "            total_value+=vpw*weight\n",
    "            remaining_capacity-=weight\n",
    "        else:\n",
    "            total_value+=vpw*remaining_capacity\n",
    "            break \n",
    "    return total_value"
   ]
  },
  {
   "cell_type": "code",
   "execution_count": 13,
   "metadata": {},
   "outputs": [
    {
     "name": "stdout",
     "output_type": "stream",
     "text": [
      "Maximum value that can be obtained = 240.0\n"
     ]
    }
   ],
   "source": [
    "values=[60,100,120]\n",
    "weights=[10,20,30]\n",
    "capacity=50\n",
    "max_value=fractional_knapsack(capacity,values,weights)\n",
    "print(\"Maximum value that can be obtained =\",max_value)"
   ]
  },
  {
   "cell_type": "markdown",
   "metadata": {},
   "source": [
    "2."
   ]
  },
  {
   "cell_type": "code",
   "execution_count": 8,
   "metadata": {},
   "outputs": [],
   "source": [
    "def maxSum(arr):\n",
    "    arr.sort()\n",
    "\n",
    "    total=0\n",
    "    N=len(arr)\n",
    "    for i in range(N):\n",
    "        total+=arr[i] * i\n",
    "    return total"
   ]
  },
  {
   "cell_type": "code",
   "execution_count": 9,
   "metadata": {},
   "outputs": [
    {
     "name": "stdout",
     "output_type": "stream",
     "text": [
      "40\n"
     ]
    }
   ],
   "source": [
    "arr=[2,5,3,4,0]\n",
    "print(maxSum(arr)) "
   ]
  },
  {
   "cell_type": "markdown",
   "metadata": {},
   "source": [
    "3."
   ]
  },
  {
   "cell_type": "code",
   "execution_count": 10,
   "metadata": {},
   "outputs": [],
   "source": [
    "def minSum(arr_1,arr_2):\n",
    "    arr_1.sort()\n",
    "    arr_2.sort(reverse=True)\n",
    "\n",
    "    total=0\n",
    "    N=len(arr_1)\n",
    "    for i in range(N):\n",
    "        total+=arr_1[i]*arr_2[i]\n",
    "\n",
    "    return total"
   ]
  },
  {
   "cell_type": "code",
   "execution_count": 11,
   "metadata": {},
   "outputs": [
    {
     "name": "stdout",
     "output_type": "stream",
     "text": [
      "104\n"
     ]
    }
   ],
   "source": [
    "arr_1=[7,5,1,4]\n",
    "arr_2=[6,17,9,3]\n",
    "print(minSum(arr_1,arr_2))"
   ]
  }
 ],
 "metadata": {
  "kernelspec": {
   "display_name": "Python 3",
   "language": "python",
   "name": "python3"
  },
  "language_info": {
   "codemirror_mode": {
    "name": "ipython",
    "version": 3
   },
   "file_extension": ".py",
   "mimetype": "text/x-python",
   "name": "python",
   "nbconvert_exporter": "python",
   "pygments_lexer": "ipython3",
   "version": "3.11.4"
  }
 },
 "nbformat": 4,
 "nbformat_minor": 2
}
