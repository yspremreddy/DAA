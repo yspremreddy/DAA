{
 "cells": [
  {
   "cell_type": "markdown",
   "metadata": {},
   "source": [
    "lab 5"
   ]
  },
  {
   "cell_type": "markdown",
   "metadata": {},
   "source": [
    "question 1"
   ]
  },
  {
   "cell_type": "code",
   "execution_count": 4,
   "metadata": {},
   "outputs": [],
   "source": [
    "def candies(n, arr):\n",
    "    candies = [1] * n\n",
    "\n",
    "    # Left to right pass\n",
    "    for i in range(1, n):\n",
    "        if arr[i] > arr[i - 1]:\n",
    "            candies[i] = candies[i - 1] + 1\n",
    "\n",
    "    # Right to left pass\n",
    "    for i in range(n - 2, -1, -1):\n",
    "        if arr[i] > arr[i + 1]:\n",
    "            candies[i] = max(candies[i], candies[i + 1] + 1)\n",
    "\n",
    "    return sum(candies)\n"
   ]
  },
  {
   "cell_type": "markdown",
   "metadata": {},
   "source": [
    "question 2"
   ]
  },
  {
   "cell_type": "code",
   "execution_count": 5,
   "metadata": {},
   "outputs": [],
   "source": [
    "def maximumPeople(p, x, y, r):\n",
    "    # Combine towns and clouds into one list with markers\n",
    "    events = []\n",
    "    for i in range(len(p)):\n",
    "        events.append((x[i], 'town', p[i]))\n",
    "    for i in range(len(y)):\n",
    "        events.append((y[i] - r[i], 'start_cloud', i))\n",
    "        events.append((y[i] + r[i], 'end_cloud', i))\n",
    "    \n",
    "    # Sort events by location\n",
    "    events.sort()\n",
    "    \n",
    "    active_clouds = set()\n",
    "    sunny_pop = 0\n",
    "    covered_pop = {}\n",
    "    max_sunny_pop = 0\n",
    "    \n",
    "    for event in events:\n",
    "        location, event_type, value = event\n",
    "        \n",
    "        if event_type == 'town':\n",
    "            # Town event\n",
    "            if not active_clouds:\n",
    "                sunny_pop += value  # Town is sunny\n",
    "            elif len(active_clouds) == 1:\n",
    "                # Town is covered by exactly one cloud\n",
    "                cloud_id = next(iter(active_clouds))\n",
    "                if cloud_id not in covered_pop:\n",
    "                    covered_pop[cloud_id] = 0\n",
    "                covered_pop[cloud_id] += value\n",
    "        elif event_type == 'start_cloud':\n",
    "            # Cloud starts\n",
    "            active_clouds.add(value)\n",
    "        elif event_type == 'end_cloud':\n",
    "            # Cloud ends\n",
    "            active_clouds.remove(value)\n",
    "    \n",
    "    if covered_pop:\n",
    "        max_sunny_pop = sunny_pop + max(covered_pop.values())\n",
    "    else:\n",
    "        max_sunny_pop = sunny_pop\n",
    "    \n",
    "    return max_sunny_pop\n"
   ]
  },
  {
   "cell_type": "code",
   "execution_count": 1,
   "metadata": {},
   "outputs": [
    {
     "name": "stdout",
     "output_type": "stream",
     "text": [
      "-1\n"
     ]
    }
   ],
   "source": [
    "def pylons(k, arr):\n",
    "    # Number of cities\n",
    "    n = len(arr)\n",
    "    # Initialize the number of plants needed and the last plant position\n",
    "    num_plants = 0\n",
    "    last_plant_position = -1\n",
    "    city = 0\n",
    "    \n",
    "    while city < n:\n",
    "        # Find the furthest city where we can place the plant\n",
    "        furthest_plant = min(city + k - 1, n - 1)\n",
    "        # Start from the furthest possible position and go backwards to find where to place the plant\n",
    "        while furthest_plant > last_plant_position and (furthest_plant - city) < k:\n",
    "            if arr[furthest_plant] == 1:\n",
    "                # Place the plant\n",
    "                num_plants += 1\n",
    "                last_plant_position = furthest_plant\n",
    "                # Move to the city that will be the first not covered by the new plant\n",
    "                city = furthest_plant + k\n",
    "                break\n",
    "            furthest_plant -= 1\n",
    "        \n",
    "        # If we did not place a plant and are not able to proceed further, return -1\n",
    "        if last_plant_position < city:\n",
    "            return -1\n",
    "    \n",
    "    return num_plants\n",
    "\n",
    "# Example usage:\n",
    "k = 3\n",
    "arr = [0, 1, 1, 1, 0, 0]\n",
    "print(pylons(k, arr))  # Output should be the minimum number of power plants needed\n",
    "\n"
   ]
  }
 ],
 "metadata": {
  "kernelspec": {
   "display_name": "Python 3",
   "language": "python",
   "name": "python3"
  },
  "language_info": {
   "codemirror_mode": {
    "name": "ipython",
    "version": 3
   },
   "file_extension": ".py",
   "mimetype": "text/x-python",
   "name": "python",
   "nbconvert_exporter": "python",
   "pygments_lexer": "ipython3",
   "version": "3.11.5"
  }
 },
 "nbformat": 4,
 "nbformat_minor": 2
}
